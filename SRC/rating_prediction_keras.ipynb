{
  "cells": [
    {
      "cell_type": "code",
      "execution_count": null,
      "metadata": {
        "id": "HzpBjuXae97E"
      },
      "outputs": [],
      "source": [
        "!pip install tensorflow\n",
        "\n",
        "import pandas as pd\n",
        "import numpy as np\n",
        "import tensorflow as tf\n",
        "import keras\n",
        "import os\n",
        "\n",
        "from sklearn.model_selection import train_test_split\n",
        "\n",
        "from keras.models import Sequential\n",
        "from keras.layers import Dense, TextVectorization, Dropout\n",
        "from keras.losses import CategoricalCrossentropy\n",
        "import matplotlib.pyplot as plt\n",
        "\n",
        "import nltk\n",
        "nltk.download('stopwords')\n",
        "from nltk.corpus import stopwords\n",
        "stop_words = set(stopwords.words('english'))"
      ]
    },
    {
      "cell_type": "code",
      "execution_count": 2,
      "metadata": {
        "id": "3-J5kg2UfPdV"
      },
      "outputs": [],
      "source": [
        "def read_data(filename):\n",
        "    input = pd.read_csv(filename).rename(\n",
        "        columns={\"reviews.text\": \"text\", \"reviews.rating\": \"rating\"})\n",
        "    data = input[input['text'].notna() & input['rating'].notna()][['text','rating']]\n",
        "    data['text'] = data['text'].apply(\n",
        "        lambda x: \" \".join([word for word in x.split() if \n",
        "                            word.lower() not in stop_words and len(word) > 2]))\n",
        "    \n",
        "    return train_test_split(data, test_size = 0.1, random_state=0)"
      ]
    },
    {
      "cell_type": "code",
      "execution_count": 3,
      "metadata": {
        "id": "DtyQgyFElNww"
      },
      "outputs": [],
      "source": [
        "def create_vectorize_layer(x_train, vector_type, vocab_size):\n",
        "\n",
        "\n",
        "    vectorize_layer = TextVectorization(max_tokens = vocab_size, \n",
        "                                        output_mode = vector_type)\n",
        "    \n",
        "    x_train_tf = tf.data.Dataset.from_tensor_slices(x_train)\n",
        "    vectorize_layer.adapt(x_train_tf.batch(64))\n",
        "    # print(vectorize_layer.get_vocabulary())\n",
        "    return vectorize_layer"
      ]
    },
    {
      "cell_type": "code",
      "execution_count": 74,
      "metadata": {
        "id": "gHkUEi3IGrvW"
      },
      "outputs": [],
      "source": [
        "def create_mlp(args = None):\n",
        "    model = Sequential(name = 'Prediction_Model_' + args['Model Name'])\n",
        "    model.add(keras.Input(shape=(1,), dtype=tf.string))\n",
        "    model.add(args['vectorize_layer'])\n",
        "    for layer in args['layers']:\n",
        "        model.add(Dense(units=layer,activation='relu'))\n",
        "        model.add(Dropout(0.2))\n",
        "    model.add(Dense(units=5, activation='softmax'))\n",
        "\n",
        "    optimizer = keras.optimizers.Adam(learning_rate=args['learning rate'])\n",
        "    model.compile(loss=CategoricalCrossentropy(), optimizer=optimizer, metrics=['accuracy'])\n",
        "    \n",
        "    return model"
      ]
    },
    {
      "cell_type": "code",
      "execution_count": 5,
      "metadata": {
        "id": "Q8JTmPdE5_7F"
      },
      "outputs": [],
      "source": [
        "def train_mlp(x_train, y_train, args = None):\n",
        "    y_train = keras.utils.to_categorical(y_train - 1, num_classes = 5)\n",
        "    model = create_mlp(args)\n",
        "    history = model.fit(x_train, y_train, epochs = args['epoch'], \n",
        "                        batch_size = args['batch size'],\n",
        "                        validation_split = args['validation_split'])\n",
        "\n",
        "    return model, history"
      ]
    },
    {
      "cell_type": "code",
      "execution_count": 75,
      "metadata": {
        "id": "Cb3gWTIqH2Xj"
      },
      "outputs": [],
      "source": [
        "def train_model(reviews_file, vectorizer):\n",
        "    train_reviews, test_reviews = read_data(reviews_file)\n",
        "\n",
        "    args = {\n",
        "    'validation_split': 0.2,\n",
        "            'epoch': 50,\n",
        "            'learning rate': 0.0001,\n",
        "            'batch size': 128,\n",
        "            'vectorize_layer': create_vectorize_layer(\n",
        "                train_reviews['text'], vectorizer, 500),\n",
        "            'layers': [256,256,128],\n",
        "    }\n",
        "\n",
        "    best_model = None\n",
        "    best_valid_acc = 0\n",
        "    best_hyper_set = None\n",
        "\n",
        "    if vectorizer == 'count':\n",
        "        args['Model Name'] = 'BOW_vectorizer'\n",
        "    else:\n",
        "        args['Model Name'] = 'TF-IDF_vectorizer'\n",
        "\n",
        "    model, history = train_mlp(\n",
        "        train_reviews['text'], train_reviews['rating'], args)\n",
        "    validation_accuracy = max(history.history['val_accuracy'])\n",
        "\n",
        "    if validation_accuracy > best_valid_acc:\n",
        "        best_model = model\n",
        "        best_valid_acc = validation_accuracy\n",
        "        best_hyper_set = args\n",
        "        best_history = history\n",
        "\n",
        "    return best_model, best_history, best_hyper_set"
      ]
    },
    {
      "cell_type": "code",
      "execution_count": 84,
      "metadata": {
        "id": "Y6e52tDLkT7e"
      },
      "outputs": [],
      "source": [
        "def plot_history(history, vectorizer):\n",
        "    \n",
        "    def plot(train, val, vectorizer, kind):\n",
        "\n",
        "        x = np.arange(1, np.size(train) + 1)\n",
        "\n",
        "        plt.plot(x, train, label = \"training \" + kind)\n",
        "        plt.plot(x, val, label = \"validation \" + kind)\n",
        "        plt.xlabel(\"epoch\")\n",
        "        plt.ylabel(kind)\n",
        "        plt.title(\"training and validation \" + kind + \" v epoch\"  + ' - ' + vectorizer)\n",
        "        plt.show()\n",
        "        \n",
        "    train_loss_history = history.history['loss']\n",
        "    val_loss_history = history.history['val_loss']\n",
        "\n",
        "    train_acc_history = history.history['accuracy']\n",
        "    val_acc_history = history.history['val_accuracy']\n",
        "\n",
        "    # plot\n",
        "    plot(train_loss_history, val_loss_history, vectorizer, 'loss')\n",
        "    plot(train_acc_history, val_acc_history, vectorizer, 'accuracy')"
      ]
    },
    {
      "cell_type": "code",
      "execution_count": null,
      "metadata": {
        "id": "1auumwH5FGLT"
      },
      "outputs": [],
      "source": [
        "bow_model, bow_model_history, bow_model_hyper_set = train_model('consumer.csv','count')\n",
        "tfidf_model, tfidf_model_history, tfidf_model_hyper_set = train_model('consumer.csv','tf_idf')"
      ]
    },
    {
      "cell_type": "code",
      "source": [
        "def analyze_model(test, model, model_hyper_set, history):\n",
        "\n",
        "    print(model.summary())\n",
        "    print('------------------------------------------------------------------')\n",
        "    plot_history(history, model_hyper_set['Model Name'])\n",
        "    print('------------------------------------------------------------------')\n",
        "    \n",
        "    predicted = np.argmax(model.predict(test['text']), axis = 1) + 1\n",
        "    test_df = pd.DataFrame({'Review':test['text'],'Rating':test['rating'],\n",
        "                            'Predicted Rating':predicted})\n",
        "    test_df['Difference'] = test_df['Rating'] - test_df['Predicted Rating']\n",
        "    test_df['Prediction Correct'] = test_df['Difference'] == 0\n",
        "\n",
        "    prediction_accuracy = test_df['Prediction Correct'].mean()\n",
        "    print('Prediction Accuracy of Model: ', prediction_accuracy)\n",
        "\n",
        "    display(test_df)\n",
        "    print('------------------------------------------------------------------')\n",
        "\n",
        "    def plot(srs, x, y, title):\n",
        "        plt.bar(srs.index, srs)\n",
        "        plt.xlabel(x)\n",
        "        plt.ylabel(y)\n",
        "        plt.title(title)\n",
        "        plt.show()\n",
        "    \n",
        "    difference_freq = test_df['Difference'].value_counts()\n",
        "    display(difference_freq)\n",
        "\n",
        "    prediction_by_label = test_df.groupby('Rating')['Prediction Correct'].mean()\n",
        "    display(prediction_by_label)\n",
        "\n",
        "    plot(difference_freq, 'Diff between Actual and Predicted Rating', 'Frequency',\n",
        "         'Frequency of the diff between Actual and Predicted Rating' + ' - ' + \\\n",
        "         model_hyper_set['Model Name'])\n",
        "    plot(prediction_by_label, 'Label', 'Prediction Accuracy', \n",
        "         'Prediction Accuracy by Label' + ' - ' + model_hyper_set['Model Name'])\n",
        "    print('------------------------------------------------------------------')\n",
        "    print('------------------------------------------------------------------')"
      ],
      "metadata": {
        "id": "SUIlsD6eP5xs"
      },
      "execution_count": 86,
      "outputs": []
    },
    {
      "cell_type": "code",
      "execution_count": 10,
      "metadata": {
        "id": "Zeknn77Shy3K",
        "colab": {
          "base_uri": "https://localhost:8080/"
        },
        "outputId": "e3032a66-9cfe-4872-e5d4-fadee040572d"
      },
      "outputs": [
        {
          "output_type": "stream",
          "name": "stderr",
          "text": [
            "<ipython-input-10-39182111333e>:1: DtypeWarning: Columns (1,10) have mixed types.Specify dtype option on import or set low_memory=False.\n",
            "  _, test_reviews = read_data('consumer.csv')\n"
          ]
        }
      ],
      "source": [
        "_, test_reviews = read_data('consumer.csv')"
      ]
    },
    {
      "cell_type": "code",
      "execution_count": 87,
      "metadata": {
        "id": "01vFmflKiZvn",
        "colab": {
          "base_uri": "https://localhost:8080/",
          "height": 1000
        },
        "outputId": "95c1d2d2-21a8-40de-8d4f-a47238f3c2c3"
      },
      "outputs": [
        {
          "output_type": "stream",
          "name": "stdout",
          "text": [
            "Model: \"Prediction_Model_BOW_vectorizer\"\n",
            "_________________________________________________________________\n",
            " Layer (type)                Output Shape              Param #   \n",
            "=================================================================\n",
            " text_vectorization_5 (TextV  (None, 500)              0         \n",
            " ectorization)                                                   \n",
            "                                                                 \n",
            " dense_20 (Dense)            (None, 256)               128256    \n",
            "                                                                 \n",
            " dropout_15 (Dropout)        (None, 256)               0         \n",
            "                                                                 \n",
            " dense_21 (Dense)            (None, 256)               65792     \n",
            "                                                                 \n",
            " dropout_16 (Dropout)        (None, 256)               0         \n",
            "                                                                 \n",
            " dense_22 (Dense)            (None, 128)               32896     \n",
            "                                                                 \n",
            " dropout_17 (Dropout)        (None, 128)               0         \n",
            "                                                                 \n",
            " dense_23 (Dense)            (None, 5)                 645       \n",
            "                                                                 \n",
            "=================================================================\n",
            "Total params: 227,589\n",
            "Trainable params: 227,589\n",
            "Non-trainable params: 0\n",
            "_________________________________________________________________\n",
            "None\n",
            "------------------------------------------------------------------\n"
          ]
        },
        {
          "output_type": "display_data",
          "data": {
            "text/plain": [
              "<Figure size 432x288 with 1 Axes>"
            ],
            "image/png": "[encoded data removed]"
          },
          "metadata": {
            "needs_background": "light"
          }
        },
        {
          "output_type": "display_data",
          "data": {
            "text/plain": [
              "<Figure size 432x288 with 1 Axes>"
            ],
            "image/png": "[encoded data removed]"
          },
          "metadata": {
            "needs_background": "light"
          }
        },
        {
          "output_type": "stream",
          "name": "stdout",
          "text": [
            "------------------------------------------------------------------\n",
            "109/109 [==============================] - 1s 7ms/step\n",
            "Prediction Accuracy of Model:  0.6846664741553566\n"
          ]
        },
        {
          "output_type": "display_data",
          "data": {
            "text/plain": [
              "                                                  Review  Rating  \\\n",
              "32300              Works good streaming apps gaming apps     5.0   \n",
              "29751  prefer anything else there. might partial Amaz...     5.0   \n",
              "9192             money good deal. Nice hook cell phones.     4.0   \n",
              "21351  upgraded older kindle backlit. quality ease us...     5.0   \n",
              "27041  Absolutely LOVE Echo! Sound much louder expect...     5.0   \n",
              "...                                                  ...     ...   \n",
              "15674              can't update Facebook apps. expected.     2.0   \n",
              "66     great tablet price. kid loves ,does alot readi...     5.0   \n",
              "17884       Compact, light, extremely easy eyes reading.     5.0   \n",
              "20354               nook love new Kindle much easier use     5.0   \n",
              "17926     love overall design feel Kindle specifically!!     5.0   \n",
              "\n",
              "       Predicted Rating  Difference  Prediction Correct  \n",
              "32300                 4         1.0               False  \n",
              "29751                 5         0.0                True  \n",
              "9192                  4         0.0                True  \n",
              "21351                 5         0.0                True  \n",
              "27041                 5         0.0                True  \n",
              "...                 ...         ...                 ...  \n",
              "15674                 4        -2.0               False  \n",
              "66                    5         0.0                True  \n",
              "17884                 5         0.0                True  \n",
              "20354                 5         0.0                True  \n",
              "17926                 5         0.0                True  \n",
              "\n",
              "[3463 rows x 5 columns]"
            ],
            "text/html": [
              "\n",
              "  <div id=\"df-9ee8d0af-7ded-4749-b339-fa0e37016966\">\n",
              "    <div class=\"colab-df-container\">\n",
              "      <div>\n",
              "<style scoped>\n",
              "    .dataframe tbody tr th:only-of-type {\n",
              "        vertical-align: middle;\n",
              "    }\n",
              "\n",
              "    .dataframe tbody tr th {\n",
              "        vertical-align: top;\n",
              "    }\n",
              "\n",
              "    .dataframe thead th {\n",
              "        text-align: right;\n",
              "    }\n",
              "</style>\n",
              "<table border=\"1\" class=\"dataframe\">\n",
              "  <thead>\n",
              "    <tr style=\"text-align: right;\">\n",
              "      <th></th>\n",
              "      <th>Review</th>\n",
              "      <th>Rating</th>\n",
              "      <th>Predicted Rating</th>\n",
              "      <th>Difference</th>\n",
              "      <th>Prediction Correct</th>\n",
              "    </tr>\n",
              "  </thead>\n",
              "  <tbody>\n",
              "    <tr>\n",
              "      <th>32300</th>\n",
              "      <td>Works good streaming apps gaming apps</td>\n",
              "      <td>5.0</td>\n",
              "      <td>4</td>\n",
              "      <td>1.0</td>\n",
              "      <td>False</td>\n",
              "    </tr>\n",
              "    <tr>\n",
              "      <th>29751</th>\n",
              "      <td>prefer anything else there. might partial Amaz...</td>\n",
              "      <td>5.0</td>\n",
              "      <td>5</td>\n",
              "      <td>0.0</td>\n",
              "      <td>True</td>\n",
              "    </tr>\n",
              "    <tr>\n",
              "      <th>9192</th>\n",
              "      <td>money good deal. Nice hook cell phones.</td>\n",
              "      <td>4.0</td>\n",
              "      <td>4</td>\n",
              "      <td>0.0</td>\n",
              "      <td>True</td>\n",
              "    </tr>\n",
              "    <tr>\n",
              "      <th>21351</th>\n",
              "      <td>upgraded older kindle backlit. quality ease us...</td>\n",
              "      <td>5.0</td>\n",
              "      <td>5</td>\n",
              "      <td>0.0</td>\n",
              "      <td>True</td>\n",
              "    </tr>\n",
              "    <tr>\n",
              "      <th>27041</th>\n",
              "      <td>Absolutely LOVE Echo! Sound much louder expect...</td>\n",
              "      <td>5.0</td>\n",
              "      <td>5</td>\n",
              "      <td>0.0</td>\n",
              "      <td>True</td>\n",
              "    </tr>\n",
              "    <tr>\n",
              "      <th>...</th>\n",
              "      <td>...</td>\n",
              "      <td>...</td>\n",
              "      <td>...</td>\n",
              "      <td>...</td>\n",
              "      <td>...</td>\n",
              "    </tr>\n",
              "    <tr>\n",
              "      <th>15674</th>\n",
              "      <td>can't update Facebook apps. expected.</td>\n",
              "      <td>2.0</td>\n",
              "      <td>4</td>\n",
              "      <td>-2.0</td>\n",
              "      <td>False</td>\n",
              "    </tr>\n",
              "    <tr>\n",
              "      <th>66</th>\n",
              "      <td>great tablet price. kid loves ,does alot readi...</td>\n",
              "      <td>5.0</td>\n",
              "      <td>5</td>\n",
              "      <td>0.0</td>\n",
              "      <td>True</td>\n",
              "    </tr>\n",
              "    <tr>\n",
              "      <th>17884</th>\n",
              "      <td>Compact, light, extremely easy eyes reading.</td>\n",
              "      <td>5.0</td>\n",
              "      <td>5</td>\n",
              "      <td>0.0</td>\n",
              "      <td>True</td>\n",
              "    </tr>\n",
              "    <tr>\n",
              "      <th>20354</th>\n",
              "      <td>nook love new Kindle much easier use</td>\n",
              "      <td>5.0</td>\n",
              "      <td>5</td>\n",
              "      <td>0.0</td>\n",
              "      <td>True</td>\n",
              "    </tr>\n",
              "    <tr>\n",
              "      <th>17926</th>\n",
              "      <td>love overall design feel Kindle specifically!!</td>\n",
              "      <td>5.0</td>\n",
              "      <td>5</td>\n",
              "      <td>0.0</td>\n",
              "      <td>True</td>\n",
              "    </tr>\n",
              "  </tbody>\n",
              "</table>\n",
              "<p>3463 rows × 5 columns</p>\n",
              "</div>\n",
              "      <button class=\"colab-df-convert\" onclick=\"convertToInteractive('df-9ee8d0af-7ded-4749-b339-fa0e37016966')\"\n",
              "              title=\"Convert this dataframe to an interactive table.\"\n",
              "              style=\"display:none;\">\n",
              "        \n",
              "  <svg xmlns=\"http://www.w3.org/2000/svg\" height=\"24px\"viewBox=\"0 0 24 24\"\n",
              "       width=\"24px\">\n",
              "    <path d=\"M0 0h24v24H0V0z\" fill=\"none\"/>\n",
              "    <path d=\"M18.56 5.44l.94 2.06.94-2.06 2.06-.94-2.06-.94-.94-2.06-.94 2.06-2.06.94zm-11 1L8.5 8.5l.94-2.06 2.06-.94-2.06-.94L8.5 2.5l-.94 2.06-2.06.94zm10 10l.94 2.06.94-2.06 2.06-.94-2.06-.94-.94-2.06-.94 2.06-2.06.94z\"/><path d=\"M17.41 7.96l-1.37-1.37c-.4-.4-.92-.59-1.43-.59-.52 0-1.04.2-1.43.59L10.3 9.45l-7.72 7.72c-.78.78-.78 2.05 0 2.83L4 21.41c.39.39.9.59 1.41.59.51 0 1.02-.2 1.41-.59l7.78-7.78 2.81-2.81c.8-.78.8-2.07 0-2.86zM5.41 20L4 18.59l7.72-7.72 1.47 1.35L5.41 20z\"/>\n",
              "  </svg>\n",
              "      </button>\n",
              "      \n",
              "  <style>\n",
              "    .colab-df-container {\n",
              "      display:flex;\n",
              "      flex-wrap:wrap;\n",
              "      gap: 12px;\n",
              "    }\n",
              "\n",
              "    .colab-df-convert {\n",
              "      background-color: #E8F0FE;\n",
              "      border: none;\n",
              "      border-radius: 50%;\n",
              "      cursor: pointer;\n",
              "      display: none;\n",
              "      fill: #1967D2;\n",
              "      height: 32px;\n",
              "      padding: 0 0 0 0;\n",
              "      width: 32px;\n",
              "    }\n",
              "\n",
              "    .colab-df-convert:hover {\n",
              "      background-color: #E2EBFA;\n",
              "      box-shadow: 0px 1px 2px rgba(60, 64, 67, 0.3), 0px 1px 3px 1px rgba(60, 64, 67, 0.15);\n",
              "      fill: #174EA6;\n",
              "    }\n",
              "\n",
              "    [theme=dark] .colab-df-convert {\n",
              "      background-color: #3B4455;\n",
              "      fill: #D2E3FC;\n",
              "    }\n",
              "\n",
              "    [theme=dark] .colab-df-convert:hover {\n",
              "      background-color: #434B5C;\n",
              "      box-shadow: 0px 1px 3px 1px rgba(0, 0, 0, 0.15);\n",
              "      filter: drop-shadow(0px 1px 2px rgba(0, 0, 0, 0.3));\n",
              "      fill: #FFFFFF;\n",
              "    }\n",
              "  </style>\n",
              "\n",
              "      <script>\n",
              "        const buttonEl =\n",
              "          document.querySelector('#df-9ee8d0af-7ded-4749-b339-fa0e37016966 button.colab-df-convert');\n",
              "        buttonEl.style.display =\n",
              "          google.colab.kernel.accessAllowed ? 'block' : 'none';\n",
              "\n",
              "        async function convertToInteractive(key) {\n",
              "          const element = document.querySelector('#df-9ee8d0af-7ded-4749-b339-fa0e37016966');\n",
              "          const dataTable =\n",
              "            await google.colab.kernel.invokeFunction('convertToInteractive',\n",
              "                                                     [key], {});\n",
              "          if (!dataTable) return;\n",
              "\n",
              "          const docLinkHtml = 'Like what you see? Visit the ' +\n",
              "            '<a target=\"_blank\" href=https://colab.research.google.com/notebooks/data_table.ipynb>data table notebook</a>'\n",
              "            + ' to learn more about interactive tables.';\n",
              "          element.innerHTML = '';\n",
              "          dataTable['output_type'] = 'display_data';\n",
              "          await google.colab.output.renderOutput(dataTable, element);\n",
              "          const docLink = document.createElement('div');\n",
              "          docLink.innerHTML = docLinkHtml;\n",
              "          element.appendChild(docLink);\n",
              "        }\n",
              "      </script>\n",
              "    </div>\n",
              "  </div>\n",
              "  "
            ]
          },
          "metadata": {}
        },
        {
          "output_type": "stream",
          "name": "stdout",
          "text": [
            "------------------------------------------------------------------\n"
          ]
        },
        {
          "output_type": "display_data",
          "data": {
            "text/plain": [
              " 0.0    2371\n",
              "-1.0     614\n",
              " 1.0     317\n",
              "-2.0      69\n",
              " 2.0      36\n",
              "-3.0      29\n",
              "-4.0      17\n",
              " 3.0       6\n",
              " 4.0       4\n",
              "Name: Difference, dtype: int64"
            ]
          },
          "metadata": {}
        },
        {
          "output_type": "display_data",
          "data": {
            "text/plain": [
              "Rating\n",
              "1.0    0.200000\n",
              "2.0    0.000000\n",
              "3.0    0.164179\n",
              "4.0    0.302924\n",
              "5.0    0.869674\n",
              "Name: Prediction Correct, dtype: float64"
            ]
          },
          "metadata": {}
        },
        {
          "output_type": "display_data",
          "data": {
            "text/plain": [
              "<Figure size 432x288 with 1 Axes>"
            ],
            "image/png": "[encoded data removed]"
          },
          "metadata": {
            "needs_background": "light"
          }
        },
        {
          "output_type": "display_data",
          "data": {
            "text/plain": [
              "<Figure size 432x288 with 1 Axes>"
            ],
            "image/png": "[encoded data removed]"
          },
          "metadata": {
            "needs_background": "light"
          }
        },
        {
          "output_type": "stream",
          "name": "stdout",
          "text": [
            "------------------------------------------------------------------\n",
            "------------------------------------------------------------------\n",
            "Model: \"Prediction_Model_TF-IDF_vectorizer\"\n",
            "_________________________________________________________________\n",
            " Layer (type)                Output Shape              Param #   \n",
            "=================================================================\n",
            " text_vectorization_6 (TextV  (None, 500)              1         \n",
            " ectorization)                                                   \n",
            "                                                                 \n",
            " dense_24 (Dense)            (None, 256)               128256    \n",
            "                                                                 \n",
            " dropout_18 (Dropout)        (None, 256)               0         \n",
            "                                                                 \n",
            " dense_25 (Dense)            (None, 256)               65792     \n",
            "                                                                 \n",
            " dropout_19 (Dropout)        (None, 256)               0         \n",
            "                                                                 \n",
            " dense_26 (Dense)            (None, 128)               32896     \n",
            "                                                                 \n",
            " dropout_20 (Dropout)        (None, 128)               0         \n",
            "                                                                 \n",
            " dense_27 (Dense)            (None, 5)                 645       \n",
            "                                                                 \n",
            "=================================================================\n",
            "Total params: 227,590\n",
            "Trainable params: 227,589\n",
            "Non-trainable params: 1\n",
            "_________________________________________________________________\n",
            "None\n",
            "------------------------------------------------------------------\n"
          ]
        },
        {
          "output_type": "display_data",
          "data": {
            "text/plain": [
              "<Figure size 432x288 with 1 Axes>"
            ],
            "image/png": "[encoded data removed]"
          },
          "metadata": {
            "needs_background": "light"
          }
        },
        {
          "output_type": "display_data",
          "data": {
            "text/plain": [
              "<Figure size 432x288 with 1 Axes>"
            ],
            "image/png": "[encoded data removed]"
          },
          "metadata": {
            "needs_background": "light"
          }
        },
        {
          "output_type": "stream",
          "name": "stdout",
          "text": [
            "------------------------------------------------------------------\n",
            "109/109 [==============================] - 0s 3ms/step\n",
            "Prediction Accuracy of Model:  0.6800462027144095\n"
          ]
        },
        {
          "output_type": "display_data",
          "data": {
            "text/plain": [
              "                                                  Review  Rating  \\\n",
              "32300              Works good streaming apps gaming apps     5.0   \n",
              "29751  prefer anything else there. might partial Amaz...     5.0   \n",
              "9192             money good deal. Nice hook cell phones.     4.0   \n",
              "21351  upgraded older kindle backlit. quality ease us...     5.0   \n",
              "27041  Absolutely LOVE Echo! Sound much louder expect...     5.0   \n",
              "...                                                  ...     ...   \n",
              "15674              can't update Facebook apps. expected.     2.0   \n",
              "66     great tablet price. kid loves ,does alot readi...     5.0   \n",
              "17884       Compact, light, extremely easy eyes reading.     5.0   \n",
              "20354               nook love new Kindle much easier use     5.0   \n",
              "17926     love overall design feel Kindle specifically!!     5.0   \n",
              "\n",
              "       Predicted Rating  Difference  Prediction Correct  \n",
              "32300                 4         1.0               False  \n",
              "29751                 5         0.0                True  \n",
              "9192                  4         0.0                True  \n",
              "21351                 5         0.0                True  \n",
              "27041                 5         0.0                True  \n",
              "...                 ...         ...                 ...  \n",
              "15674                 3        -1.0               False  \n",
              "66                    5         0.0                True  \n",
              "17884                 5         0.0                True  \n",
              "20354                 5         0.0                True  \n",
              "17926                 4         1.0               False  \n",
              "\n",
              "[3463 rows x 5 columns]"
            ],
            "text/html": [
              "\n",
              "  <div id=\"df-0d648dcb-ba42-4eae-b335-cffb67191db6\">\n",
              "    <div class=\"colab-df-container\">\n",
              "      <div>\n",
              "<style scoped>\n",
              "    .dataframe tbody tr th:only-of-type {\n",
              "        vertical-align: middle;\n",
              "    }\n",
              "\n",
              "    .dataframe tbody tr th {\n",
              "        vertical-align: top;\n",
              "    }\n",
              "\n",
              "    .dataframe thead th {\n",
              "        text-align: right;\n",
              "    }\n",
              "</style>\n",
              "<table border=\"1\" class=\"dataframe\">\n",
              "  <thead>\n",
              "    <tr style=\"text-align: right;\">\n",
              "      <th></th>\n",
              "      <th>Review</th>\n",
              "      <th>Rating</th>\n",
              "      <th>Predicted Rating</th>\n",
              "      <th>Difference</th>\n",
              "      <th>Prediction Correct</th>\n",
              "    </tr>\n",
              "  </thead>\n",
              "  <tbody>\n",
              "    <tr>\n",
              "      <th>32300</th>\n",
              "      <td>Works good streaming apps gaming apps</td>\n",
              "      <td>5.0</td>\n",
              "      <td>4</td>\n",
              "      <td>1.0</td>\n",
              "      <td>False</td>\n",
              "    </tr>\n",
              "    <tr>\n",
              "      <th>29751</th>\n",
              "      <td>prefer anything else there. might partial Amaz...</td>\n",
              "      <td>5.0</td>\n",
              "      <td>5</td>\n",
              "      <td>0.0</td>\n",
              "      <td>True</td>\n",
              "    </tr>\n",
              "    <tr>\n",
              "      <th>9192</th>\n",
              "      <td>money good deal. Nice hook cell phones.</td>\n",
              "      <td>4.0</td>\n",
              "      <td>4</td>\n",
              "      <td>0.0</td>\n",
              "      <td>True</td>\n",
              "    </tr>\n",
              "    <tr>\n",
              "      <th>21351</th>\n",
              "      <td>upgraded older kindle backlit. quality ease us...</td>\n",
              "      <td>5.0</td>\n",
              "      <td>5</td>\n",
              "      <td>0.0</td>\n",
              "      <td>True</td>\n",
              "    </tr>\n",
              "    <tr>\n",
              "      <th>27041</th>\n",
              "      <td>Absolutely LOVE Echo! Sound much louder expect...</td>\n",
              "      <td>5.0</td>\n",
              "      <td>5</td>\n",
              "      <td>0.0</td>\n",
              "      <td>True</td>\n",
              "    </tr>\n",
              "    <tr>\n",
              "      <th>...</th>\n",
              "      <td>...</td>\n",
              "      <td>...</td>\n",
              "      <td>...</td>\n",
              "      <td>...</td>\n",
              "      <td>...</td>\n",
              "    </tr>\n",
              "    <tr>\n",
              "      <th>15674</th>\n",
              "      <td>can't update Facebook apps. expected.</td>\n",
              "      <td>2.0</td>\n",
              "      <td>3</td>\n",
              "      <td>-1.0</td>\n",
              "      <td>False</td>\n",
              "    </tr>\n",
              "    <tr>\n",
              "      <th>66</th>\n",
              "      <td>great tablet price. kid loves ,does alot readi...</td>\n",
              "      <td>5.0</td>\n",
              "      <td>5</td>\n",
              "      <td>0.0</td>\n",
              "      <td>True</td>\n",
              "    </tr>\n",
              "    <tr>\n",
              "      <th>17884</th>\n",
              "      <td>Compact, light, extremely easy eyes reading.</td>\n",
              "      <td>5.0</td>\n",
              "      <td>5</td>\n",
              "      <td>0.0</td>\n",
              "      <td>True</td>\n",
              "    </tr>\n",
              "    <tr>\n",
              "      <th>20354</th>\n",
              "      <td>nook love new Kindle much easier use</td>\n",
              "      <td>5.0</td>\n",
              "      <td>5</td>\n",
              "      <td>0.0</td>\n",
              "      <td>True</td>\n",
              "    </tr>\n",
              "    <tr>\n",
              "      <th>17926</th>\n",
              "      <td>love overall design feel Kindle specifically!!</td>\n",
              "      <td>5.0</td>\n",
              "      <td>4</td>\n",
              "      <td>1.0</td>\n",
              "      <td>False</td>\n",
              "    </tr>\n",
              "  </tbody>\n",
              "</table>\n",
              "<p>3463 rows × 5 columns</p>\n",
              "</div>\n",
              "      <button class=\"colab-df-convert\" onclick=\"convertToInteractive('df-0d648dcb-ba42-4eae-b335-cffb67191db6')\"\n",
              "              title=\"Convert this dataframe to an interactive table.\"\n",
              "              style=\"display:none;\">\n",
              "        \n",
              "  <svg xmlns=\"http://www.w3.org/2000/svg\" height=\"24px\"viewBox=\"0 0 24 24\"\n",
              "       width=\"24px\">\n",
              "    <path d=\"M0 0h24v24H0V0z\" fill=\"none\"/>\n",
              "    <path d=\"M18.56 5.44l.94 2.06.94-2.06 2.06-.94-2.06-.94-.94-2.06-.94 2.06-2.06.94zm-11 1L8.5 8.5l.94-2.06 2.06-.94-2.06-.94L8.5 2.5l-.94 2.06-2.06.94zm10 10l.94 2.06.94-2.06 2.06-.94-2.06-.94-.94-2.06-.94 2.06-2.06.94z\"/><path d=\"M17.41 7.96l-1.37-1.37c-.4-.4-.92-.59-1.43-.59-.52 0-1.04.2-1.43.59L10.3 9.45l-7.72 7.72c-.78.78-.78 2.05 0 2.83L4 21.41c.39.39.9.59 1.41.59.51 0 1.02-.2 1.41-.59l7.78-7.78 2.81-2.81c.8-.78.8-2.07 0-2.86zM5.41 20L4 18.59l7.72-7.72 1.47 1.35L5.41 20z\"/>\n",
              "  </svg>\n",
              "      </button>\n",
              "      \n",
              "  <style>\n",
              "    .colab-df-container {\n",
              "      display:flex;\n",
              "      flex-wrap:wrap;\n",
              "      gap: 12px;\n",
              "    }\n",
              "\n",
              "    .colab-df-convert {\n",
              "      background-color: #E8F0FE;\n",
              "      border: none;\n",
              "      border-radius: 50%;\n",
              "      cursor: pointer;\n",
              "      display: none;\n",
              "      fill: #1967D2;\n",
              "      height: 32px;\n",
              "      padding: 0 0 0 0;\n",
              "      width: 32px;\n",
              "    }\n",
              "\n",
              "    .colab-df-convert:hover {\n",
              "      background-color: #E2EBFA;\n",
              "      box-shadow: 0px 1px 2px rgba(60, 64, 67, 0.3), 0px 1px 3px 1px rgba(60, 64, 67, 0.15);\n",
              "      fill: #174EA6;\n",
              "    }\n",
              "\n",
              "    [theme=dark] .colab-df-convert {\n",
              "      background-color: #3B4455;\n",
              "      fill: #D2E3FC;\n",
              "    }\n",
              "\n",
              "    [theme=dark] .colab-df-convert:hover {\n",
              "      background-color: #434B5C;\n",
              "      box-shadow: 0px 1px 3px 1px rgba(0, 0, 0, 0.15);\n",
              "      filter: drop-shadow(0px 1px 2px rgba(0, 0, 0, 0.3));\n",
              "      fill: #FFFFFF;\n",
              "    }\n",
              "  </style>\n",
              "\n",
              "      <script>\n",
              "        const buttonEl =\n",
              "          document.querySelector('#df-0d648dcb-ba42-4eae-b335-cffb67191db6 button.colab-df-convert');\n",
              "        buttonEl.style.display =\n",
              "          google.colab.kernel.accessAllowed ? 'block' : 'none';\n",
              "\n",
              "        async function convertToInteractive(key) {\n",
              "          const element = document.querySelector('#df-0d648dcb-ba42-4eae-b335-cffb67191db6');\n",
              "          const dataTable =\n",
              "            await google.colab.kernel.invokeFunction('convertToInteractive',\n",
              "                                                     [key], {});\n",
              "          if (!dataTable) return;\n",
              "\n",
              "          const docLinkHtml = 'Like what you see? Visit the ' +\n",
              "            '<a target=\"_blank\" href=https://colab.research.google.com/notebooks/data_table.ipynb>data table notebook</a>'\n",
              "            + ' to learn more about interactive tables.';\n",
              "          element.innerHTML = '';\n",
              "          dataTable['output_type'] = 'display_data';\n",
              "          await google.colab.output.renderOutput(dataTable, element);\n",
              "          const docLink = document.createElement('div');\n",
              "          docLink.innerHTML = docLinkHtml;\n",
              "          element.appendChild(docLink);\n",
              "        }\n",
              "      </script>\n",
              "    </div>\n",
              "  </div>\n",
              "  "
            ]
          },
          "metadata": {}
        },
        {
          "output_type": "stream",
          "name": "stdout",
          "text": [
            "------------------------------------------------------------------\n"
          ]
        },
        {
          "output_type": "display_data",
          "data": {
            "text/plain": [
              " 0.0    2355\n",
              "-1.0     591\n",
              " 1.0     369\n",
              "-2.0      71\n",
              "-3.0      28\n",
              " 2.0      20\n",
              "-4.0      17\n",
              " 3.0       8\n",
              " 4.0       4\n",
              "Name: Difference, dtype: int64"
            ]
          },
          "metadata": {}
        },
        {
          "output_type": "display_data",
          "data": {
            "text/plain": [
              "Rating\n",
              "1.0    0.125000\n",
              "2.0    0.050000\n",
              "3.0    0.134328\n",
              "4.0    0.329825\n",
              "5.0    0.855472\n",
              "Name: Prediction Correct, dtype: float64"
            ]
          },
          "metadata": {}
        },
        {
          "output_type": "display_data",
          "data": {
            "text/plain": [
              "<Figure size 432x288 with 1 Axes>"
            ],
            "image/png": "[encoded data removed]"
          },
          "metadata": {
            "needs_background": "light"
          }
        },
        {
          "output_type": "display_data",
          "data": {
            "text/plain": [
              "<Figure size 432x288 with 1 Axes>"
            ],
            "image/png": "[encoded data removed]"
          },
          "metadata": {
            "needs_background": "light"
          }
        },
        {
          "output_type": "stream",
          "name": "stdout",
          "text": [
            "------------------------------------------------------------------\n",
            "------------------------------------------------------------------\n"
          ]
        }
      ],
      "source": [
        "analyze_model(test_reviews, bow_model, bow_model_hyper_set, bow_model_history)\n",
        "analyze_model(test_reviews, tfidf_model, tfidf_model_hyper_set, tfidf_model_history)"
      ]
    },
    {
      "cell_type": "code",
      "execution_count": null,
      "metadata": {
        "id": "Wg_7HvMQlLTG"
      },
      "outputs": [],
      "source": []
    }
  ],
  "metadata": {
    "accelerator": "GPU",
    "colab": {
      "provenance": []
    },
    "gpuClass": "standard",
    "kernelspec": {
      "display_name": "Python 3",
      "name": "python3"
    },
    "language_info": {
      "name": "python"
    }
  },
  "nbformat": 4,
  "nbformat_minor": 0
}